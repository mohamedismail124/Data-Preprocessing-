{
  "cells": [
    {
      "cell_type": "markdown",
      "id": "90627efc",
      "metadata": {
        "id": "90627efc"
      },
      "source": [
        "# Library"
      ]
    },
    {
      "cell_type": "code",
      "execution_count": null,
      "id": "575c20f5",
      "metadata": {
        "id": "575c20f5"
      },
      "outputs": [],
      "source": [
        "import pandas as pd\n",
        "import numpy as np\n",
        "import matplotlib.pyplot as plt"
      ]
    },
    {
      "cell_type": "markdown",
      "id": "7a50c0ee",
      "metadata": {
        "id": "7a50c0ee"
      },
      "source": [
        "# Read data"
      ]
    },
    {
      "cell_type": "markdown",
      "id": "52b1c2e5-a1b4-40fa-b3a1-85883bc13058",
      "metadata": {
        "id": "52b1c2e5-a1b4-40fa-b3a1-85883bc13058"
      },
      "source": [
        "## https://www.kaggle.com/competitions/widsdatathon2022/overview"
      ]
    },
    {
      "cell_type": "markdown",
      "id": "9be0dad2-49d0-45e4-bced-5a981b87bf19",
      "metadata": {
        "id": "9be0dad2-49d0-45e4-bced-5a981b87bf19"
      },
      "source": [
        "# ركزت المسابقة على تحليل كفاءة الطاقة في المباني، حيث طُلب من المشاركين إنشاء نماذج لتوقع استهلاك الطاقة في المباني باستخدام مجموعة بيانات تتضمن متغيرات تصف خصائص المباني، والمتغيرات المناخية، ومتغيرات الطقس للمناطق التي تقع فيها المباني.\n",
        "\n",
        "\n"
      ]
    },
    {
      "cell_type": "code",
      "execution_count": null,
      "id": "b8975c11",
      "metadata": {
        "id": "b8975c11"
      },
      "outputs": [],
      "source": [
        "#loading Data\n",
        "df=pd.read_csv('WiDS Dataton.csv')"
      ]
    },
    {
      "cell_type": "code",
      "execution_count": null,
      "id": "06c69dd4",
      "metadata": {
        "id": "06c69dd4",
        "outputId": "ba9584b0-0a9b-43a7-8778-e72bf4ed8193"
      },
      "outputs": [
        {
          "data": {
            "text/html": [
              "<div>\n",
              "<style scoped>\n",
              "    .dataframe tbody tr th:only-of-type {\n",
              "        vertical-align: middle;\n",
              "    }\n",
              "\n",
              "    .dataframe tbody tr th {\n",
              "        vertical-align: top;\n",
              "    }\n",
              "\n",
              "    .dataframe thead th {\n",
              "        text-align: right;\n",
              "    }\n",
              "</style>\n",
              "<table border=\"1\" class=\"dataframe\">\n",
              "  <thead>\n",
              "    <tr style=\"text-align: right;\">\n",
              "      <th></th>\n",
              "      <th>Year_Factor</th>\n",
              "      <th>State_Factor</th>\n",
              "      <th>building_class</th>\n",
              "      <th>facility_type</th>\n",
              "      <th>floor_area</th>\n",
              "      <th>year_built</th>\n",
              "      <th>energy_star_rating</th>\n",
              "      <th>ELEVATION</th>\n",
              "      <th>january_min_temp</th>\n",
              "      <th>january_avg_temp</th>\n",
              "      <th>...</th>\n",
              "      <th>december_min_temp</th>\n",
              "      <th>days_below_10F</th>\n",
              "      <th>days_below_0F</th>\n",
              "      <th>days_above_80F</th>\n",
              "      <th>direction_max_wind_speed</th>\n",
              "      <th>direction_peak_wind_speed</th>\n",
              "      <th>max_wind_speed</th>\n",
              "      <th>days_with_fog</th>\n",
              "      <th>site_eui</th>\n",
              "      <th>id</th>\n",
              "    </tr>\n",
              "  </thead>\n",
              "  <tbody>\n",
              "    <tr>\n",
              "      <th>0</th>\n",
              "      <td>1</td>\n",
              "      <td>State_1</td>\n",
              "      <td>Commercial</td>\n",
              "      <td>Grocery_store_or_food_market</td>\n",
              "      <td>61242.0</td>\n",
              "      <td>1942.0</td>\n",
              "      <td>11.0</td>\n",
              "      <td>2.4</td>\n",
              "      <td>36</td>\n",
              "      <td>50.5</td>\n",
              "      <td>...</td>\n",
              "      <td>36</td>\n",
              "      <td>0</td>\n",
              "      <td>0</td>\n",
              "      <td>14</td>\n",
              "      <td>1.0</td>\n",
              "      <td>1.0</td>\n",
              "      <td>1.0</td>\n",
              "      <td>NaN</td>\n",
              "      <td>248.682615</td>\n",
              "      <td>0</td>\n",
              "    </tr>\n",
              "    <tr>\n",
              "      <th>1</th>\n",
              "      <td>1</td>\n",
              "      <td>State_1</td>\n",
              "      <td>Commercial</td>\n",
              "      <td>Warehouse_Distribution_or_Shipping_center</td>\n",
              "      <td>274000.0</td>\n",
              "      <td>1955.0</td>\n",
              "      <td>45.0</td>\n",
              "      <td>1.8</td>\n",
              "      <td>36</td>\n",
              "      <td>50.5</td>\n",
              "      <td>...</td>\n",
              "      <td>36</td>\n",
              "      <td>0</td>\n",
              "      <td>0</td>\n",
              "      <td>14</td>\n",
              "      <td>1.0</td>\n",
              "      <td>NaN</td>\n",
              "      <td>1.0</td>\n",
              "      <td>12.0</td>\n",
              "      <td>26.500150</td>\n",
              "      <td>1</td>\n",
              "    </tr>\n",
              "    <tr>\n",
              "      <th>2</th>\n",
              "      <td>1</td>\n",
              "      <td>State_1</td>\n",
              "      <td>Commercial</td>\n",
              "      <td>Retail_Enclosed_mall</td>\n",
              "      <td>280025.0</td>\n",
              "      <td>1951.0</td>\n",
              "      <td>97.0</td>\n",
              "      <td>1.8</td>\n",
              "      <td>36</td>\n",
              "      <td>50.5</td>\n",
              "      <td>...</td>\n",
              "      <td>36</td>\n",
              "      <td>0</td>\n",
              "      <td>0</td>\n",
              "      <td>14</td>\n",
              "      <td>1.0</td>\n",
              "      <td>NaN</td>\n",
              "      <td>1.0</td>\n",
              "      <td>12.0</td>\n",
              "      <td>24.693619</td>\n",
              "      <td>2</td>\n",
              "    </tr>\n",
              "    <tr>\n",
              "      <th>3</th>\n",
              "      <td>1</td>\n",
              "      <td>State_1</td>\n",
              "      <td>Commercial</td>\n",
              "      <td>Education_Other_classroom</td>\n",
              "      <td>55325.0</td>\n",
              "      <td>1980.0</td>\n",
              "      <td>46.0</td>\n",
              "      <td>1.8</td>\n",
              "      <td>36</td>\n",
              "      <td>50.5</td>\n",
              "      <td>...</td>\n",
              "      <td>36</td>\n",
              "      <td>0</td>\n",
              "      <td>0</td>\n",
              "      <td>14</td>\n",
              "      <td>1.0</td>\n",
              "      <td>NaN</td>\n",
              "      <td>1.0</td>\n",
              "      <td>12.0</td>\n",
              "      <td>48.406926</td>\n",
              "      <td>3</td>\n",
              "    </tr>\n",
              "    <tr>\n",
              "      <th>4</th>\n",
              "      <td>1</td>\n",
              "      <td>State_1</td>\n",
              "      <td>Commercial</td>\n",
              "      <td>Warehouse_Nonrefrigerated</td>\n",
              "      <td>66000.0</td>\n",
              "      <td>1985.0</td>\n",
              "      <td>100.0</td>\n",
              "      <td>2.4</td>\n",
              "      <td>36</td>\n",
              "      <td>50.5</td>\n",
              "      <td>...</td>\n",
              "      <td>36</td>\n",
              "      <td>0</td>\n",
              "      <td>0</td>\n",
              "      <td>14</td>\n",
              "      <td>1.0</td>\n",
              "      <td>1.0</td>\n",
              "      <td>1.0</td>\n",
              "      <td>NaN</td>\n",
              "      <td>3.899395</td>\n",
              "      <td>4</td>\n",
              "    </tr>\n",
              "  </tbody>\n",
              "</table>\n",
              "<p>5 rows × 41 columns</p>\n",
              "</div>"
            ],
            "text/plain": [
              "   Year_Factor State_Factor building_class  \\\n",
              "0            1      State_1     Commercial   \n",
              "1            1      State_1     Commercial   \n",
              "2            1      State_1     Commercial   \n",
              "3            1      State_1     Commercial   \n",
              "4            1      State_1     Commercial   \n",
              "\n",
              "                               facility_type  floor_area  year_built  \\\n",
              "0               Grocery_store_or_food_market     61242.0      1942.0   \n",
              "1  Warehouse_Distribution_or_Shipping_center    274000.0      1955.0   \n",
              "2                       Retail_Enclosed_mall    280025.0      1951.0   \n",
              "3                  Education_Other_classroom     55325.0      1980.0   \n",
              "4                  Warehouse_Nonrefrigerated     66000.0      1985.0   \n",
              "\n",
              "   energy_star_rating  ELEVATION  january_min_temp  january_avg_temp  ...  \\\n",
              "0                11.0        2.4                36              50.5  ...   \n",
              "1                45.0        1.8                36              50.5  ...   \n",
              "2                97.0        1.8                36              50.5  ...   \n",
              "3                46.0        1.8                36              50.5  ...   \n",
              "4               100.0        2.4                36              50.5  ...   \n",
              "\n",
              "   december_min_temp  days_below_10F  days_below_0F  days_above_80F  \\\n",
              "0                 36               0              0              14   \n",
              "1                 36               0              0              14   \n",
              "2                 36               0              0              14   \n",
              "3                 36               0              0              14   \n",
              "4                 36               0              0              14   \n",
              "\n",
              "   direction_max_wind_speed  direction_peak_wind_speed  max_wind_speed  \\\n",
              "0                       1.0                        1.0             1.0   \n",
              "1                       1.0                        NaN             1.0   \n",
              "2                       1.0                        NaN             1.0   \n",
              "3                       1.0                        NaN             1.0   \n",
              "4                       1.0                        1.0             1.0   \n",
              "\n",
              "   days_with_fog    site_eui  id  \n",
              "0            NaN  248.682615   0  \n",
              "1           12.0   26.500150   1  \n",
              "2           12.0   24.693619   2  \n",
              "3           12.0   48.406926   3  \n",
              "4            NaN    3.899395   4  \n",
              "\n",
              "[5 rows x 41 columns]"
            ]
          },
          "execution_count": 18,
          "metadata": {},
          "output_type": "execute_result"
        }
      ],
      "source": [
        "df.head()"
      ]
    },
    {
      "cell_type": "code",
      "execution_count": null,
      "id": "78bf0dff",
      "metadata": {
        "id": "78bf0dff",
        "outputId": "7ceabfca-6650-4b79-fb44-a121fa163556"
      },
      "outputs": [
        {
          "name": "stdout",
          "output_type": "stream",
          "text": [
            "<class 'pandas.core.frame.DataFrame'>\n",
            "RangeIndex: 31107 entries, 0 to 31106\n",
            "Data columns (total 41 columns):\n",
            " #   Column                     Non-Null Count  Dtype  \n",
            "---  ------                     --------------  -----  \n",
            " 0   Year_Factor                31107 non-null  int64  \n",
            " 1   State_Factor               31107 non-null  object \n",
            " 2   building_class             31107 non-null  object \n",
            " 3   facility_type              31107 non-null  object \n",
            " 4   floor_area                 31107 non-null  float64\n",
            " 5   year_built                 29614 non-null  float64\n",
            " 6   energy_star_rating         14502 non-null  float64\n",
            " 7   ELEVATION                  31107 non-null  float64\n",
            " 8   january_min_temp           31107 non-null  int64  \n",
            " 9   january_avg_temp           31107 non-null  float64\n",
            " 10  january_max_temp           31107 non-null  int64  \n",
            " 11  february_min_temp          31107 non-null  int64  \n",
            " 12  february_avg_temp          31107 non-null  float64\n",
            " 13  february_max_temp          31107 non-null  int64  \n",
            " 14  march_min_temp             31107 non-null  int64  \n",
            " 15  march_avg_temp             31107 non-null  float64\n",
            " 16  march_max_temp             31107 non-null  int64  \n",
            " 17  april_min_temp             31107 non-null  int64  \n",
            " 18  april_avg_temp             31107 non-null  float64\n",
            " 19  april_max_temp             31107 non-null  int64  \n",
            " 20  may_min_temp               31107 non-null  int64  \n",
            " 21  may_avg_temp               31107 non-null  float64\n",
            " 22  may_max_temp               31107 non-null  int64  \n",
            " 23  june_min_temp              31107 non-null  int64  \n",
            " 24  june_avg_temp              31107 non-null  float64\n",
            " 25  june_max_temp              31107 non-null  int64  \n",
            " 26  july_min_temp              31107 non-null  int64  \n",
            " 27  july_avg_temp              31107 non-null  float64\n",
            " 28  july_max_temp              31107 non-null  int64  \n",
            " 29  august_min_temp            31107 non-null  int64  \n",
            " 30  november_max_temp          31107 non-null  int64  \n",
            " 31  december_min_temp          31107 non-null  int64  \n",
            " 32  days_below_10F             31107 non-null  int64  \n",
            " 33  days_below_0F              31107 non-null  int64  \n",
            " 34  days_above_80F             31107 non-null  int64  \n",
            " 35  direction_max_wind_speed   11192 non-null  float64\n",
            " 36  direction_peak_wind_speed  11156 non-null  float64\n",
            " 37  max_wind_speed             11192 non-null  float64\n",
            " 38  days_with_fog              12621 non-null  float64\n",
            " 39  site_eui                   31107 non-null  float64\n",
            " 40  id                         31107 non-null  int64  \n",
            "dtypes: float64(16), int64(22), object(3)\n",
            "memory usage: 9.7+ MB\n"
          ]
        }
      ],
      "source": [
        "df.info()"
      ]
    },
    {
      "cell_type": "code",
      "execution_count": null,
      "id": "e68fddb2",
      "metadata": {
        "id": "e68fddb2",
        "outputId": "2df2c0a1-4a3d-4e00-f147-65be71775458"
      },
      "outputs": [
        {
          "data": {
            "text/plain": [
              "Index(['Year_Factor', 'State_Factor', 'building_class', 'facility_type',\n",
              "       'floor_area', 'year_built', 'energy_star_rating', 'ELEVATION',\n",
              "       'january_min_temp', 'january_avg_temp', 'january_max_temp',\n",
              "       'february_min_temp', 'february_avg_temp', 'february_max_temp',\n",
              "       'march_min_temp', 'march_avg_temp', 'march_max_temp', 'april_min_temp',\n",
              "       'april_avg_temp', 'april_max_temp', 'may_min_temp', 'may_avg_temp',\n",
              "       'may_max_temp', 'june_min_temp', 'june_avg_temp', 'june_max_temp',\n",
              "       'july_min_temp', 'july_avg_temp', 'july_max_temp', 'august_min_temp',\n",
              "       'november_max_temp', 'december_min_temp', 'days_below_10F',\n",
              "       'days_below_0F', 'days_above_80F', 'direction_max_wind_speed',\n",
              "       'direction_peak_wind_speed', 'max_wind_speed', 'days_with_fog',\n",
              "       'site_eui', 'id'],\n",
              "      dtype='object')"
            ]
          },
          "execution_count": 20,
          "metadata": {},
          "output_type": "execute_result"
        }
      ],
      "source": [
        "df.columns"
      ]
    },
    {
      "cell_type": "code",
      "execution_count": null,
      "id": "fbe6d68b",
      "metadata": {
        "id": "fbe6d68b",
        "outputId": "862940ce-301b-4663-e2c8-5a67a713b578"
      },
      "outputs": [
        {
          "data": {
            "text/plain": [
              "(31107, 41)"
            ]
          },
          "execution_count": 21,
          "metadata": {},
          "output_type": "execute_result"
        }
      ],
      "source": [
        "df.shape"
      ]
    },
    {
      "cell_type": "markdown",
      "id": "204d2cc3",
      "metadata": {
        "id": "204d2cc3"
      },
      "source": [
        "# Remove column"
      ]
    },
    {
      "cell_type": "code",
      "execution_count": null,
      "id": "5813a649",
      "metadata": {
        "id": "5813a649"
      },
      "outputs": [],
      "source": [
        "df.drop(['id'],axis=1,inplace=True)"
      ]
    },
    {
      "cell_type": "markdown",
      "id": "6a292e7e",
      "metadata": {
        "id": "6a292e7e"
      },
      "source": [
        "# Remove Duplicated"
      ]
    },
    {
      "cell_type": "code",
      "execution_count": null,
      "id": "4ab3cdc3",
      "metadata": {
        "id": "4ab3cdc3",
        "outputId": "e3105e69-3ca6-4955-c71b-a41e4f44c38b"
      },
      "outputs": [
        {
          "name": "stdout",
          "output_type": "stream",
          "text": [
            "Number of duplicate rows :  26\n"
          ]
        }
      ],
      "source": [
        "# Dropping the duplicate rows\n",
        "print(\"Number of duplicate rows : \",df.duplicated().sum())\n",
        "\n",
        "# df.drop_duplicates(inplace=True)"
      ]
    },
    {
      "cell_type": "markdown",
      "id": "6c4e2fa6",
      "metadata": {
        "id": "6c4e2fa6"
      },
      "source": [
        "# Data Cleaning\n",
        "missing Value"
      ]
    },
    {
      "cell_type": "code",
      "execution_count": null,
      "id": "0d882777",
      "metadata": {
        "id": "0d882777",
        "outputId": "1315735f-517d-4edd-c58d-36b2f3aa40cf"
      },
      "outputs": [
        {
          "data": {
            "text/plain": [
              "direction_peak_wind_speed    19951\n",
              "max_wind_speed               19915\n",
              "direction_max_wind_speed     19915\n",
              "days_with_fog                18486\n",
              "energy_star_rating           16605\n",
              "year_built                    1493\n",
              "Year_Factor                      0\n",
              "july_max_temp                    0\n",
              "june_min_temp                    0\n",
              "june_avg_temp                    0\n",
              "dtype: int64"
            ]
          },
          "execution_count": 24,
          "metadata": {},
          "output_type": "execute_result"
        }
      ],
      "source": [
        "df.isnull().sum().sort_values(ascending = False).head(10)"
      ]
    },
    {
      "cell_type": "code",
      "execution_count": null,
      "id": "9fd3bb6c",
      "metadata": {
        "id": "9fd3bb6c",
        "outputId": "51f3a2eb-06ef-430c-bb65-75cf12b4a9cc"
      },
      "outputs": [
        {
          "data": {
            "image/png": "[encoded data removed]",
            "text/plain": [
              "<Figure size 2000x1000 with 1 Axes>"
            ]
          },
          "metadata": {},
          "output_type": "display_data"
        }
      ],
      "source": [
        "plt.figure(figsize=(20,10))\n",
        "df.isnull().sum().sort_values(ascending = False).head(6).plot(kind='bar')\n",
        "plt.show()"
      ]
    },
    {
      "cell_type": "code",
      "execution_count": null,
      "id": "7ad568af",
      "metadata": {
        "id": "7ad568af"
      },
      "outputs": [],
      "source": [
        "df.drop(['days_with_fog','direction_peak_wind_speed','energy_star_rating',\n",
        "           'direction_max_wind_speed','max_wind_speed'],axis=1,inplace=True)"
      ]
    },
    {
      "cell_type": "markdown",
      "id": "4e46ec72",
      "metadata": {
        "id": "4e46ec72"
      },
      "source": [
        "# Replace Nan value"
      ]
    },
    {
      "cell_type": "code",
      "execution_count": null,
      "id": "5ef2601c",
      "metadata": {
        "id": "5ef2601c"
      },
      "outputs": [],
      "source": [
        "from sklearn.impute import SimpleImputer\n",
        "\n",
        "imputer=SimpleImputer(missing_values=np.nan,strategy='mean') #'median', 'mean', 'constant', 'most_frequent'\n",
        "\n",
        "#df['year_built']=imputer.fit_transform(np.array(df['year_built']).reshape(-1, 1))\n",
        "df['year_built']=pd.DataFrame(imputer.fit_transform(df[['year_built']]))\n",
        "\n",
        "\n",
        "#df.fillna(int(df['year_built'].mean()),inplace=True)"
      ]
    },
    {
      "cell_type": "code",
      "execution_count": null,
      "id": "6dab2cc8",
      "metadata": {
        "id": "6dab2cc8",
        "outputId": "6a7d1297-91d5-4d7b-bde2-6b3f065380cc"
      },
      "outputs": [
        {
          "data": {
            "text/plain": [
              "0"
            ]
          },
          "execution_count": 28,
          "metadata": {},
          "output_type": "execute_result"
        }
      ],
      "source": [
        "df['year_built'].isnull().sum()"
      ]
    },
    {
      "cell_type": "code",
      "execution_count": null,
      "id": "d16022bb",
      "metadata": {
        "id": "d16022bb",
        "outputId": "c16a1175-c0c0-4013-e627-5ad4c723c7ca"
      },
      "outputs": [
        {
          "name": "stdout",
          "output_type": "stream",
          "text": [
            "<class 'pandas.core.frame.DataFrame'>\n",
            "RangeIndex: 31107 entries, 0 to 31106\n",
            "Data columns (total 35 columns):\n",
            " #   Column             Non-Null Count  Dtype  \n",
            "---  ------             --------------  -----  \n",
            " 0   Year_Factor        31107 non-null  int64  \n",
            " 1   State_Factor       31107 non-null  object \n",
            " 2   building_class     31107 non-null  object \n",
            " 3   facility_type      31107 non-null  object \n",
            " 4   floor_area         31107 non-null  float64\n",
            " 5   year_built         31107 non-null  float64\n",
            " 6   ELEVATION          31107 non-null  float64\n",
            " 7   january_min_temp   31107 non-null  int64  \n",
            " 8   january_avg_temp   31107 non-null  float64\n",
            " 9   january_max_temp   31107 non-null  int64  \n",
            " 10  february_min_temp  31107 non-null  int64  \n",
            " 11  february_avg_temp  31107 non-null  float64\n",
            " 12  february_max_temp  31107 non-null  int64  \n",
            " 13  march_min_temp     31107 non-null  int64  \n",
            " 14  march_avg_temp     31107 non-null  float64\n",
            " 15  march_max_temp     31107 non-null  int64  \n",
            " 16  april_min_temp     31107 non-null  int64  \n",
            " 17  april_avg_temp     31107 non-null  float64\n",
            " 18  april_max_temp     31107 non-null  int64  \n",
            " 19  may_min_temp       31107 non-null  int64  \n",
            " 20  may_avg_temp       31107 non-null  float64\n",
            " 21  may_max_temp       31107 non-null  int64  \n",
            " 22  june_min_temp      31107 non-null  int64  \n",
            " 23  june_avg_temp      31107 non-null  float64\n",
            " 24  june_max_temp      31107 non-null  int64  \n",
            " 25  july_min_temp      31107 non-null  int64  \n",
            " 26  july_avg_temp      31107 non-null  float64\n",
            " 27  july_max_temp      31107 non-null  int64  \n",
            " 28  august_min_temp    31107 non-null  int64  \n",
            " 29  november_max_temp  31107 non-null  int64  \n",
            " 30  december_min_temp  31107 non-null  int64  \n",
            " 31  days_below_10F     31107 non-null  int64  \n",
            " 32  days_below_0F      31107 non-null  int64  \n",
            " 33  days_above_80F     31107 non-null  int64  \n",
            " 34  site_eui           31107 non-null  float64\n",
            "dtypes: float64(11), int64(21), object(3)\n",
            "memory usage: 8.3+ MB\n"
          ]
        }
      ],
      "source": [
        "df.info()"
      ]
    },
    {
      "cell_type": "code",
      "execution_count": null,
      "id": "ab038697",
      "metadata": {
        "id": "ab038697",
        "outputId": "d79a4c36-42d5-41dc-c78c-eb05e53739c4"
      },
      "outputs": [
        {
          "data": {
            "text/plain": [
              "0                 Grocery_store_or_food_market\n",
              "1    Warehouse_Distribution_or_Shipping_center\n",
              "2                         Retail_Enclosed_mall\n",
              "3                    Education_Other_classroom\n",
              "4                    Warehouse_Nonrefrigerated\n",
              "Name: facility_type, dtype: object"
            ]
          },
          "execution_count": 30,
          "metadata": {},
          "output_type": "execute_result"
        }
      ],
      "source": [
        "df['facility_type'].head()"
      ]
    },
    {
      "cell_type": "markdown",
      "id": "4aa77454",
      "metadata": {
        "id": "4aa77454"
      },
      "source": [
        "# Data Encoding"
      ]
    },
    {
      "cell_type": "code",
      "execution_count": null,
      "id": "319e7931",
      "metadata": {
        "id": "319e7931",
        "outputId": "7fa975b4-2cb4-4014-af7b-21b7b1447c67"
      },
      "outputs": [
        {
          "name": "stdout",
          "output_type": "stream",
          "text": [
            "number of column State_Factor is :  4\n",
            "number of column State_Factor is :  ['State_1' 'State_2' 'State_4' 'State_6']\n",
            "number of column facility_type is :  58\n",
            "number of column facility_type is :  ['Grocery_store_or_food_market'\n",
            " 'Warehouse_Distribution_or_Shipping_center' 'Retail_Enclosed_mall'\n",
            " 'Education_Other_classroom' 'Warehouse_Nonrefrigerated'\n",
            " 'Warehouse_Selfstorage' 'Office_Uncategorized' 'Data_Center'\n",
            " 'Commercial_Other' 'Mixed_Use_Predominantly_Commercial'\n",
            " 'Office_Medical_non_diagnostic' 'Education_College_or_university'\n",
            " 'Industrial' 'Laboratory' 'Public_Assembly_Entertainment_culture'\n",
            " 'Retail_Vehicle_dealership_showroom' 'Retail_Uncategorized'\n",
            " 'Lodging_Hotel' 'Retail_Strip_shopping_mall' 'Education_Uncategorized'\n",
            " 'Religious_worship' 'Commercial_Unknown'\n",
            " 'Mixed_Use_Commercial_and_Residential' 'Office_Bank_or_other_financial'\n",
            " 'Public_Assembly_Social_meeting' 'Service_Uncategorized'\n",
            " 'Warehouse_Refrigerated' 'Food_Service_Uncategorized'\n",
            " 'Health_Care_Uncategorized' 'Food_Service_Other'\n",
            " 'Public_Assembly_Movie_Theater' 'Food_Service_Restaurant_or_cafeteria'\n",
            " 'Service_Vehicle_service_repair_shop' 'Health_Care_Inpatient'\n",
            " 'Food_Sales' 'Public_Assembly_Uncategorized'\n",
            " 'Public_Assembly_Drama_theater' 'Parking_Garage'\n",
            " 'Public_Assembly_Recreation' 'Service_Drycleaning_or_Laundry'\n",
            " 'Nursing_Home' 'Health_Care_Outpatient_Clinic'\n",
            " 'Education_Preschool_or_daycare' '5plus_Unit_Building'\n",
            " 'Multifamily_Uncategorized' 'Lodging_Dormitory_or_fraternity_sorority'\n",
            " 'Public_Assembly_Library' 'Public_Safety_Uncategorized'\n",
            " 'Public_Safety_Fire_or_police_station' 'Office_Mixed_use'\n",
            " 'Public_Assembly_Other' 'Public_Safety_Penitentiary'\n",
            " 'Health_Care_Outpatient_Uncategorized' 'Lodging_Other'\n",
            " 'Mixed_Use_Predominantly_Residential' 'Public_Safety_Courthouse'\n",
            " 'Public_Assembly_Stadium' 'Lodging_Uncategorized']\n",
            "number of column building_class is :  2\n",
            "number of column building_class is :  ['Commercial' 'Residential']\n"
          ]
        }
      ],
      "source": [
        "for col in ['State_Factor','facility_type','building_class']:\n",
        "    print(f'number of column {col} is : ',df[col].nunique())\n",
        "    print(f'number of column {col} is : ',df[col].unique())"
      ]
    },
    {
      "cell_type": "markdown",
      "id": "65af6c48",
      "metadata": {
        "id": "65af6c48"
      },
      "source": [
        "## Label encoder"
      ]
    },
    {
      "cell_type": "code",
      "execution_count": null,
      "id": "fe2a3db8",
      "metadata": {
        "id": "fe2a3db8"
      },
      "outputs": [],
      "source": [
        "from sklearn.preprocessing import LabelEncoder, OneHotEncoder\n",
        "\n",
        "lb=LabelEncoder()\n",
        "\n",
        "for col in ['State_Factor','facility_type']:\n",
        "    df[col] = lb.fit_transform(df[col])"
      ]
    },
    {
      "cell_type": "code",
      "execution_count": null,
      "id": "8b2436c8",
      "metadata": {
        "id": "8b2436c8",
        "outputId": "7261bc0d-e8d1-4818-e12e-1a7f4cb653c9"
      },
      "outputs": [
        {
          "data": {
            "text/plain": [
              "array([0, 1, 2, 3])"
            ]
          },
          "execution_count": 33,
          "metadata": {},
          "output_type": "execute_result"
        }
      ],
      "source": [
        "df['State_Factor'].unique()"
      ]
    },
    {
      "cell_type": "markdown",
      "id": "95397287",
      "metadata": {
        "id": "95397287"
      },
      "source": [
        "## OneHotEconder"
      ]
    },
    {
      "cell_type": "code",
      "execution_count": null,
      "id": "69fbe0e4",
      "metadata": {
        "id": "69fbe0e4"
      },
      "outputs": [],
      "source": [
        "onehotencoder=OneHotEncoder()\n",
        "\n",
        "X=onehotencoder.fit_transform(np.array(df['building_class']).reshape(-1,1)).toarray()\n"
      ]
    },
    {
      "cell_type": "code",
      "execution_count": null,
      "id": "47599c33",
      "metadata": {
        "id": "47599c33",
        "outputId": "c5e66ce7-3c72-457d-8cef-2b8315db210b"
      },
      "outputs": [
        {
          "data": {
            "text/plain": [
              "array([[1., 0.],\n",
              "       [1., 0.],\n",
              "       [1., 0.],\n",
              "       ...,\n",
              "       [0., 1.],\n",
              "       [0., 1.],\n",
              "       [0., 1.]])"
            ]
          },
          "execution_count": 35,
          "metadata": {},
          "output_type": "execute_result"
        }
      ],
      "source": [
        "X"
      ]
    },
    {
      "cell_type": "code",
      "execution_count": null,
      "id": "69feca0e",
      "metadata": {
        "id": "69feca0e"
      },
      "outputs": [],
      "source": [
        "for i in range(X.shape[1]):\n",
        "    df['N_'+str(len(df.columns))] = X[:,i]\n",
        "\n",
        "df.drop(['building_class'],axis=1,inplace=True)\n"
      ]
    },
    {
      "cell_type": "code",
      "execution_count": null,
      "id": "c26fa767",
      "metadata": {
        "id": "c26fa767",
        "outputId": "d4319ec0-9269-4a72-8b8c-cfda02e402bc"
      },
      "outputs": [
        {
          "data": {
            "text/html": [
              "<div>\n",
              "<style scoped>\n",
              "    .dataframe tbody tr th:only-of-type {\n",
              "        vertical-align: middle;\n",
              "    }\n",
              "\n",
              "    .dataframe tbody tr th {\n",
              "        vertical-align: top;\n",
              "    }\n",
              "\n",
              "    .dataframe thead th {\n",
              "        text-align: right;\n",
              "    }\n",
              "</style>\n",
              "<table border=\"1\" class=\"dataframe\">\n",
              "  <thead>\n",
              "    <tr style=\"text-align: right;\">\n",
              "      <th></th>\n",
              "      <th>Year_Factor</th>\n",
              "      <th>State_Factor</th>\n",
              "      <th>facility_type</th>\n",
              "      <th>floor_area</th>\n",
              "      <th>year_built</th>\n",
              "      <th>ELEVATION</th>\n",
              "      <th>january_min_temp</th>\n",
              "      <th>january_avg_temp</th>\n",
              "      <th>january_max_temp</th>\n",
              "      <th>february_min_temp</th>\n",
              "      <th>...</th>\n",
              "      <th>july_max_temp</th>\n",
              "      <th>august_min_temp</th>\n",
              "      <th>november_max_temp</th>\n",
              "      <th>december_min_temp</th>\n",
              "      <th>days_below_10F</th>\n",
              "      <th>days_below_0F</th>\n",
              "      <th>days_above_80F</th>\n",
              "      <th>site_eui</th>\n",
              "      <th>N_35</th>\n",
              "      <th>N_36</th>\n",
              "    </tr>\n",
              "  </thead>\n",
              "  <tbody>\n",
              "    <tr>\n",
              "      <th>0</th>\n",
              "      <td>1</td>\n",
              "      <td>0</td>\n",
              "      <td>12</td>\n",
              "      <td>61242.0</td>\n",
              "      <td>1942.0</td>\n",
              "      <td>2.4</td>\n",
              "      <td>36</td>\n",
              "      <td>50.5</td>\n",
              "      <td>68</td>\n",
              "      <td>35</td>\n",
              "      <td>...</td>\n",
              "      <td>84</td>\n",
              "      <td>52</td>\n",
              "      <td>72</td>\n",
              "      <td>36</td>\n",
              "      <td>0</td>\n",
              "      <td>0</td>\n",
              "      <td>14</td>\n",
              "      <td>248.682615</td>\n",
              "      <td>1.0</td>\n",
              "      <td>0.0</td>\n",
              "    </tr>\n",
              "    <tr>\n",
              "      <th>1</th>\n",
              "      <td>1</td>\n",
              "      <td>0</td>\n",
              "      <td>54</td>\n",
              "      <td>274000.0</td>\n",
              "      <td>1955.0</td>\n",
              "      <td>1.8</td>\n",
              "      <td>36</td>\n",
              "      <td>50.5</td>\n",
              "      <td>68</td>\n",
              "      <td>35</td>\n",
              "      <td>...</td>\n",
              "      <td>84</td>\n",
              "      <td>52</td>\n",
              "      <td>72</td>\n",
              "      <td>36</td>\n",
              "      <td>0</td>\n",
              "      <td>0</td>\n",
              "      <td>14</td>\n",
              "      <td>26.500150</td>\n",
              "      <td>1.0</td>\n",
              "      <td>0.0</td>\n",
              "    </tr>\n",
              "    <tr>\n",
              "      <th>2</th>\n",
              "      <td>1</td>\n",
              "      <td>0</td>\n",
              "      <td>47</td>\n",
              "      <td>280025.0</td>\n",
              "      <td>1951.0</td>\n",
              "      <td>1.8</td>\n",
              "      <td>36</td>\n",
              "      <td>50.5</td>\n",
              "      <td>68</td>\n",
              "      <td>35</td>\n",
              "      <td>...</td>\n",
              "      <td>84</td>\n",
              "      <td>52</td>\n",
              "      <td>72</td>\n",
              "      <td>36</td>\n",
              "      <td>0</td>\n",
              "      <td>0</td>\n",
              "      <td>14</td>\n",
              "      <td>24.693619</td>\n",
              "      <td>1.0</td>\n",
              "      <td>0.0</td>\n",
              "    </tr>\n",
              "    <tr>\n",
              "      <th>3</th>\n",
              "      <td>1</td>\n",
              "      <td>0</td>\n",
              "      <td>5</td>\n",
              "      <td>55325.0</td>\n",
              "      <td>1980.0</td>\n",
              "      <td>1.8</td>\n",
              "      <td>36</td>\n",
              "      <td>50.5</td>\n",
              "      <td>68</td>\n",
              "      <td>35</td>\n",
              "      <td>...</td>\n",
              "      <td>84</td>\n",
              "      <td>52</td>\n",
              "      <td>72</td>\n",
              "      <td>36</td>\n",
              "      <td>0</td>\n",
              "      <td>0</td>\n",
              "      <td>14</td>\n",
              "      <td>48.406926</td>\n",
              "      <td>1.0</td>\n",
              "      <td>0.0</td>\n",
              "    </tr>\n",
              "    <tr>\n",
              "      <th>4</th>\n",
              "      <td>1</td>\n",
              "      <td>0</td>\n",
              "      <td>55</td>\n",
              "      <td>66000.0</td>\n",
              "      <td>1985.0</td>\n",
              "      <td>2.4</td>\n",
              "      <td>36</td>\n",
              "      <td>50.5</td>\n",
              "      <td>68</td>\n",
              "      <td>35</td>\n",
              "      <td>...</td>\n",
              "      <td>84</td>\n",
              "      <td>52</td>\n",
              "      <td>72</td>\n",
              "      <td>36</td>\n",
              "      <td>0</td>\n",
              "      <td>0</td>\n",
              "      <td>14</td>\n",
              "      <td>3.899395</td>\n",
              "      <td>1.0</td>\n",
              "      <td>0.0</td>\n",
              "    </tr>\n",
              "  </tbody>\n",
              "</table>\n",
              "<p>5 rows × 36 columns</p>\n",
              "</div>"
            ],
            "text/plain": [
              "   Year_Factor  State_Factor  facility_type  floor_area  year_built  \\\n",
              "0            1             0             12     61242.0      1942.0   \n",
              "1            1             0             54    274000.0      1955.0   \n",
              "2            1             0             47    280025.0      1951.0   \n",
              "3            1             0              5     55325.0      1980.0   \n",
              "4            1             0             55     66000.0      1985.0   \n",
              "\n",
              "   ELEVATION  january_min_temp  january_avg_temp  january_max_temp  \\\n",
              "0        2.4                36              50.5                68   \n",
              "1        1.8                36              50.5                68   \n",
              "2        1.8                36              50.5                68   \n",
              "3        1.8                36              50.5                68   \n",
              "4        2.4                36              50.5                68   \n",
              "\n",
              "   february_min_temp  ...  july_max_temp  august_min_temp  november_max_temp  \\\n",
              "0                 35  ...             84               52                 72   \n",
              "1                 35  ...             84               52                 72   \n",
              "2                 35  ...             84               52                 72   \n",
              "3                 35  ...             84               52                 72   \n",
              "4                 35  ...             84               52                 72   \n",
              "\n",
              "   december_min_temp  days_below_10F  days_below_0F  days_above_80F  \\\n",
              "0                 36               0              0              14   \n",
              "1                 36               0              0              14   \n",
              "2                 36               0              0              14   \n",
              "3                 36               0              0              14   \n",
              "4                 36               0              0              14   \n",
              "\n",
              "     site_eui  N_35  N_36  \n",
              "0  248.682615   1.0   0.0  \n",
              "1   26.500150   1.0   0.0  \n",
              "2   24.693619   1.0   0.0  \n",
              "3   48.406926   1.0   0.0  \n",
              "4    3.899395   1.0   0.0  \n",
              "\n",
              "[5 rows x 36 columns]"
            ]
          },
          "execution_count": 37,
          "metadata": {},
          "output_type": "execute_result"
        }
      ],
      "source": [
        "df.head()"
      ]
    },
    {
      "cell_type": "code",
      "execution_count": null,
      "id": "605e1201",
      "metadata": {
        "id": "605e1201"
      },
      "outputs": [],
      "source": []
    },
    {
      "cell_type": "code",
      "execution_count": null,
      "id": "ed2284ca",
      "metadata": {
        "id": "ed2284ca"
      },
      "outputs": [],
      "source": [
        "y=df['State_Factor']"
      ]
    },
    {
      "cell_type": "code",
      "execution_count": null,
      "id": "28df82d5",
      "metadata": {
        "id": "28df82d5",
        "outputId": "b1c55874-b10f-400e-dd0e-20a90a299f3f"
      },
      "outputs": [
        {
          "data": {
            "text/plain": [
              "0    0\n",
              "1    0\n",
              "2    0\n",
              "3    0\n",
              "4    0\n",
              "Name: State_Factor, dtype: int32"
            ]
          },
          "execution_count": 39,
          "metadata": {},
          "output_type": "execute_result"
        }
      ],
      "source": [
        "y.head()"
      ]
    },
    {
      "cell_type": "code",
      "execution_count": null,
      "id": "4fb73e36",
      "metadata": {
        "id": "4fb73e36"
      },
      "outputs": [],
      "source": [
        "X=df.drop(['State_Factor'],axis=1)"
      ]
    },
    {
      "cell_type": "code",
      "execution_count": null,
      "id": "06a42416",
      "metadata": {
        "id": "06a42416",
        "outputId": "4b20bb16-9bec-44af-b6a0-370fa76ff641"
      },
      "outputs": [
        {
          "data": {
            "text/html": [
              "<div>\n",
              "<style scoped>\n",
              "    .dataframe tbody tr th:only-of-type {\n",
              "        vertical-align: middle;\n",
              "    }\n",
              "\n",
              "    .dataframe tbody tr th {\n",
              "        vertical-align: top;\n",
              "    }\n",
              "\n",
              "    .dataframe thead th {\n",
              "        text-align: right;\n",
              "    }\n",
              "</style>\n",
              "<table border=\"1\" class=\"dataframe\">\n",
              "  <thead>\n",
              "    <tr style=\"text-align: right;\">\n",
              "      <th></th>\n",
              "      <th>Year_Factor</th>\n",
              "      <th>facility_type</th>\n",
              "      <th>floor_area</th>\n",
              "      <th>year_built</th>\n",
              "      <th>ELEVATION</th>\n",
              "      <th>january_min_temp</th>\n",
              "      <th>january_avg_temp</th>\n",
              "      <th>january_max_temp</th>\n",
              "      <th>february_min_temp</th>\n",
              "      <th>february_avg_temp</th>\n",
              "      <th>...</th>\n",
              "      <th>july_max_temp</th>\n",
              "      <th>august_min_temp</th>\n",
              "      <th>november_max_temp</th>\n",
              "      <th>december_min_temp</th>\n",
              "      <th>days_below_10F</th>\n",
              "      <th>days_below_0F</th>\n",
              "      <th>days_above_80F</th>\n",
              "      <th>site_eui</th>\n",
              "      <th>N_35</th>\n",
              "      <th>N_36</th>\n",
              "    </tr>\n",
              "  </thead>\n",
              "  <tbody>\n",
              "    <tr>\n",
              "      <th>0</th>\n",
              "      <td>1</td>\n",
              "      <td>12</td>\n",
              "      <td>61242.0</td>\n",
              "      <td>1942.0</td>\n",
              "      <td>2.4</td>\n",
              "      <td>36</td>\n",
              "      <td>50.5</td>\n",
              "      <td>68</td>\n",
              "      <td>35</td>\n",
              "      <td>50.589286</td>\n",
              "      <td>...</td>\n",
              "      <td>84</td>\n",
              "      <td>52</td>\n",
              "      <td>72</td>\n",
              "      <td>36</td>\n",
              "      <td>0</td>\n",
              "      <td>0</td>\n",
              "      <td>14</td>\n",
              "      <td>248.682615</td>\n",
              "      <td>1.0</td>\n",
              "      <td>0.0</td>\n",
              "    </tr>\n",
              "    <tr>\n",
              "      <th>1</th>\n",
              "      <td>1</td>\n",
              "      <td>54</td>\n",
              "      <td>274000.0</td>\n",
              "      <td>1955.0</td>\n",
              "      <td>1.8</td>\n",
              "      <td>36</td>\n",
              "      <td>50.5</td>\n",
              "      <td>68</td>\n",
              "      <td>35</td>\n",
              "      <td>50.589286</td>\n",
              "      <td>...</td>\n",
              "      <td>84</td>\n",
              "      <td>52</td>\n",
              "      <td>72</td>\n",
              "      <td>36</td>\n",
              "      <td>0</td>\n",
              "      <td>0</td>\n",
              "      <td>14</td>\n",
              "      <td>26.500150</td>\n",
              "      <td>1.0</td>\n",
              "      <td>0.0</td>\n",
              "    </tr>\n",
              "    <tr>\n",
              "      <th>2</th>\n",
              "      <td>1</td>\n",
              "      <td>47</td>\n",
              "      <td>280025.0</td>\n",
              "      <td>1951.0</td>\n",
              "      <td>1.8</td>\n",
              "      <td>36</td>\n",
              "      <td>50.5</td>\n",
              "      <td>68</td>\n",
              "      <td>35</td>\n",
              "      <td>50.589286</td>\n",
              "      <td>...</td>\n",
              "      <td>84</td>\n",
              "      <td>52</td>\n",
              "      <td>72</td>\n",
              "      <td>36</td>\n",
              "      <td>0</td>\n",
              "      <td>0</td>\n",
              "      <td>14</td>\n",
              "      <td>24.693619</td>\n",
              "      <td>1.0</td>\n",
              "      <td>0.0</td>\n",
              "    </tr>\n",
              "    <tr>\n",
              "      <th>3</th>\n",
              "      <td>1</td>\n",
              "      <td>5</td>\n",
              "      <td>55325.0</td>\n",
              "      <td>1980.0</td>\n",
              "      <td>1.8</td>\n",
              "      <td>36</td>\n",
              "      <td>50.5</td>\n",
              "      <td>68</td>\n",
              "      <td>35</td>\n",
              "      <td>50.589286</td>\n",
              "      <td>...</td>\n",
              "      <td>84</td>\n",
              "      <td>52</td>\n",
              "      <td>72</td>\n",
              "      <td>36</td>\n",
              "      <td>0</td>\n",
              "      <td>0</td>\n",
              "      <td>14</td>\n",
              "      <td>48.406926</td>\n",
              "      <td>1.0</td>\n",
              "      <td>0.0</td>\n",
              "    </tr>\n",
              "    <tr>\n",
              "      <th>4</th>\n",
              "      <td>1</td>\n",
              "      <td>55</td>\n",
              "      <td>66000.0</td>\n",
              "      <td>1985.0</td>\n",
              "      <td>2.4</td>\n",
              "      <td>36</td>\n",
              "      <td>50.5</td>\n",
              "      <td>68</td>\n",
              "      <td>35</td>\n",
              "      <td>50.589286</td>\n",
              "      <td>...</td>\n",
              "      <td>84</td>\n",
              "      <td>52</td>\n",
              "      <td>72</td>\n",
              "      <td>36</td>\n",
              "      <td>0</td>\n",
              "      <td>0</td>\n",
              "      <td>14</td>\n",
              "      <td>3.899395</td>\n",
              "      <td>1.0</td>\n",
              "      <td>0.0</td>\n",
              "    </tr>\n",
              "  </tbody>\n",
              "</table>\n",
              "<p>5 rows × 35 columns</p>\n",
              "</div>"
            ],
            "text/plain": [
              "   Year_Factor  facility_type  floor_area  year_built  ELEVATION  \\\n",
              "0            1             12     61242.0      1942.0        2.4   \n",
              "1            1             54    274000.0      1955.0        1.8   \n",
              "2            1             47    280025.0      1951.0        1.8   \n",
              "3            1              5     55325.0      1980.0        1.8   \n",
              "4            1             55     66000.0      1985.0        2.4   \n",
              "\n",
              "   january_min_temp  january_avg_temp  january_max_temp  february_min_temp  \\\n",
              "0                36              50.5                68                 35   \n",
              "1                36              50.5                68                 35   \n",
              "2                36              50.5                68                 35   \n",
              "3                36              50.5                68                 35   \n",
              "4                36              50.5                68                 35   \n",
              "\n",
              "   february_avg_temp  ...  july_max_temp  august_min_temp  november_max_temp  \\\n",
              "0          50.589286  ...             84               52                 72   \n",
              "1          50.589286  ...             84               52                 72   \n",
              "2          50.589286  ...             84               52                 72   \n",
              "3          50.589286  ...             84               52                 72   \n",
              "4          50.589286  ...             84               52                 72   \n",
              "\n",
              "   december_min_temp  days_below_10F  days_below_0F  days_above_80F  \\\n",
              "0                 36               0              0              14   \n",
              "1                 36               0              0              14   \n",
              "2                 36               0              0              14   \n",
              "3                 36               0              0              14   \n",
              "4                 36               0              0              14   \n",
              "\n",
              "     site_eui  N_35  N_36  \n",
              "0  248.682615   1.0   0.0  \n",
              "1   26.500150   1.0   0.0  \n",
              "2   24.693619   1.0   0.0  \n",
              "3   48.406926   1.0   0.0  \n",
              "4    3.899395   1.0   0.0  \n",
              "\n",
              "[5 rows x 35 columns]"
            ]
          },
          "execution_count": 41,
          "metadata": {},
          "output_type": "execute_result"
        }
      ],
      "source": [
        "X.head()"
      ]
    },
    {
      "cell_type": "code",
      "execution_count": null,
      "id": "71ab3d40",
      "metadata": {
        "id": "71ab3d40"
      },
      "outputs": [],
      "source": []
    },
    {
      "cell_type": "code",
      "execution_count": null,
      "id": "6cc5a54f",
      "metadata": {
        "id": "6cc5a54f",
        "outputId": "c6589746-379a-4cab-c374-1c188eb946ac"
      },
      "outputs": [
        {
          "name": "stdout",
          "output_type": "stream",
          "text": [
            "<class 'pandas.core.frame.DataFrame'>\n",
            "RangeIndex: 31107 entries, 0 to 31106\n",
            "Data columns (total 35 columns):\n",
            " #   Column             Non-Null Count  Dtype  \n",
            "---  ------             --------------  -----  \n",
            " 0   Year_Factor        31107 non-null  int64  \n",
            " 1   facility_type      31107 non-null  int32  \n",
            " 2   floor_area         31107 non-null  float64\n",
            " 3   year_built         31107 non-null  float64\n",
            " 4   ELEVATION          31107 non-null  float64\n",
            " 5   january_min_temp   31107 non-null  int64  \n",
            " 6   january_avg_temp   31107 non-null  float64\n",
            " 7   january_max_temp   31107 non-null  int64  \n",
            " 8   february_min_temp  31107 non-null  int64  \n",
            " 9   february_avg_temp  31107 non-null  float64\n",
            " 10  february_max_temp  31107 non-null  int64  \n",
            " 11  march_min_temp     31107 non-null  int64  \n",
            " 12  march_avg_temp     31107 non-null  float64\n",
            " 13  march_max_temp     31107 non-null  int64  \n",
            " 14  april_min_temp     31107 non-null  int64  \n",
            " 15  april_avg_temp     31107 non-null  float64\n",
            " 16  april_max_temp     31107 non-null  int64  \n",
            " 17  may_min_temp       31107 non-null  int64  \n",
            " 18  may_avg_temp       31107 non-null  float64\n",
            " 19  may_max_temp       31107 non-null  int64  \n",
            " 20  june_min_temp      31107 non-null  int64  \n",
            " 21  june_avg_temp      31107 non-null  float64\n",
            " 22  june_max_temp      31107 non-null  int64  \n",
            " 23  july_min_temp      31107 non-null  int64  \n",
            " 24  july_avg_temp      31107 non-null  float64\n",
            " 25  july_max_temp      31107 non-null  int64  \n",
            " 26  august_min_temp    31107 non-null  int64  \n",
            " 27  november_max_temp  31107 non-null  int64  \n",
            " 28  december_min_temp  31107 non-null  int64  \n",
            " 29  days_below_10F     31107 non-null  int64  \n",
            " 30  days_below_0F      31107 non-null  int64  \n",
            " 31  days_above_80F     31107 non-null  int64  \n",
            " 32  site_eui           31107 non-null  float64\n",
            " 33  N_35               31107 non-null  float64\n",
            " 34  N_36               31107 non-null  float64\n",
            "dtypes: float64(13), int32(1), int64(21)\n",
            "memory usage: 8.2 MB\n"
          ]
        }
      ],
      "source": [
        "X.info()"
      ]
    },
    {
      "cell_type": "code",
      "execution_count": null,
      "id": "f134097e",
      "metadata": {
        "id": "f134097e"
      },
      "outputs": [],
      "source": []
    },
    {
      "cell_type": "markdown",
      "id": "513c6007",
      "metadata": {
        "id": "513c6007"
      },
      "source": [
        "# Data Scaling  ( Normalization)"
      ]
    },
    {
      "cell_type": "markdown",
      "id": "66439f62",
      "metadata": {
        "id": "66439f62"
      },
      "source": [
        "## MinmaxScaler"
      ]
    },
    {
      "cell_type": "code",
      "execution_count": null,
      "id": "0af2d1c5",
      "metadata": {
        "id": "0af2d1c5"
      },
      "outputs": [],
      "source": [
        "# MinMaxScaler\n",
        "from sklearn.preprocessing import MinMaxScaler\n",
        "my_scaler = MinMaxScaler(feature_range=(0,1))\n",
        "X_scaler_minMax = my_scaler.fit_transform(X)"
      ]
    },
    {
      "cell_type": "code",
      "execution_count": null,
      "id": "5f4c6d94",
      "metadata": {
        "id": "5f4c6d94",
        "outputId": "4f934753-ed85-4ebe-cf44-686b44d7ac7c"
      },
      "outputs": [
        {
          "data": {
            "text/plain": [
              "(0.0, 1.0000000000000002)"
            ]
          },
          "execution_count": 44,
          "metadata": {},
          "output_type": "execute_result"
        }
      ],
      "source": [
        "X_scaler_minMax.min(), X_scaler_minMax.max()"
      ]
    },
    {
      "cell_type": "markdown",
      "id": "fbac171d",
      "metadata": {
        "id": "fbac171d"
      },
      "source": [
        "## StandardScaler"
      ]
    },
    {
      "cell_type": "code",
      "execution_count": null,
      "id": "c3167e98",
      "metadata": {
        "id": "c3167e98"
      },
      "outputs": [],
      "source": [
        "# Standardization\n",
        "from sklearn.preprocessing import StandardScaler\n",
        "my_scaler = StandardScaler()\n",
        "X_scaler_SD = my_scaler.fit_transform(X)"
      ]
    },
    {
      "cell_type": "code",
      "execution_count": null,
      "id": "00fbf1f9",
      "metadata": {
        "id": "00fbf1f9",
        "outputId": "639c9e31-cac3-4052-d0a0-28947f67574c"
      },
      "outputs": [
        {
          "data": {
            "text/plain": [
              "(-48.05885624687289, 23.31883951363439)"
            ]
          },
          "execution_count": 46,
          "metadata": {},
          "output_type": "execute_result"
        }
      ],
      "source": [
        "X_scaler_SD.min(),X_scaler_SD.max()"
      ]
    },
    {
      "cell_type": "markdown",
      "id": "6bd0cee4-2ed2-4295-8295-73f2070ba9d6",
      "metadata": {
        "id": "6bd0cee4-2ed2-4295-8295-73f2070ba9d6"
      },
      "source": [
        "## RobustScaler"
      ]
    },
    {
      "cell_type": "code",
      "execution_count": null,
      "id": "8a56c7f7-48e7-491b-bb53-467a1bc2612e",
      "metadata": {
        "id": "8a56c7f7-48e7-491b-bb53-467a1bc2612e"
      },
      "outputs": [],
      "source": [
        "from sklearn.preprocessing import RobustScaler\n",
        "\n",
        "# Initialize RobustScaler\n",
        "scaler = RobustScaler()\n",
        "\n",
        "# Fit and transform the data\n",
        "X_scaler_RS = scaler.fit_transform(X)\n"
      ]
    },
    {
      "cell_type": "code",
      "execution_count": null,
      "id": "f3413f3b-4718-418b-8448-5bdd5551f5ab",
      "metadata": {
        "id": "f3413f3b-4718-418b-8448-5bdd5551f5ab",
        "outputId": "b8207a3b-988a-4f33-82f1-d7ade92531d6"
      },
      "outputs": [
        {
          "data": {
            "text/plain": [
              "(-39.83602143498042, 59.0)"
            ]
          },
          "execution_count": 48,
          "metadata": {},
          "output_type": "execute_result"
        }
      ],
      "source": [
        "X_scaler_RS.min(),X_scaler_RS.max()"
      ]
    },
    {
      "cell_type": "markdown",
      "id": "cdf07608",
      "metadata": {
        "id": "cdf07608"
      },
      "source": [
        "# Spliting Data\n",
        "### train test split"
      ]
    },
    {
      "cell_type": "code",
      "execution_count": null,
      "id": "e159c4c9",
      "metadata": {
        "id": "e159c4c9"
      },
      "outputs": [],
      "source": [
        "# Split into Input and Output Elements\n",
        "from sklearn.model_selection import train_test_split\n",
        "X_train, X_test, y_train, y_test = train_test_split(X,y,\n",
        "                                   test_size= 0.20, random_state=100, stratify=y)"
      ]
    },
    {
      "cell_type": "code",
      "execution_count": null,
      "id": "7320852e",
      "metadata": {
        "id": "7320852e",
        "outputId": "fe8e005a-cf88-4a06-8d4b-6fb11c5b02b6"
      },
      "outputs": [
        {
          "name": "stdout",
          "output_type": "stream",
          "text": [
            "X_train =  (24885, 35)  y_train =  (24885,)\n",
            "X_test  =  (6222, 35)  y_test  =  (6222,)\n"
          ]
        }
      ],
      "source": [
        "print(\"X_train = \",X_train.shape ,\" y_train = \", y_train.shape)\n",
        "print(\"X_test  = \",X_test.shape ,\" y_test  = \", y_test.shape)"
      ]
    },
    {
      "cell_type": "markdown",
      "id": "d48c141a",
      "metadata": {
        "id": "d48c141a"
      },
      "source": [
        "# KFold Spliting"
      ]
    },
    {
      "cell_type": "code",
      "execution_count": null,
      "id": "dad27fe0",
      "metadata": {
        "id": "dad27fe0",
        "outputId": "5362b308-16b2-40bb-d663-2c034ec3aa28"
      },
      "outputs": [
        {
          "name": "stdout",
          "output_type": "stream",
          "text": [
            "Train index\n",
            "[10369 10370 10371 ... 31104 31105 31106]\n",
            "Test index\n",
            "[    0     1     2 ... 10366 10367 10368]\n",
            "Train index\n",
            "[    0     1     2 ... 31104 31105 31106]\n",
            "Test index\n",
            "[10369 10370 10371 ... 20735 20736 20737]\n",
            "Train index\n",
            "[    0     1     2 ... 20735 20736 20737]\n",
            "Test index\n",
            "[20738 20739 20740 ... 31104 31105 31106]\n"
          ]
        }
      ],
      "source": [
        "from sklearn.model_selection import KFold\n",
        "\n",
        "kf = KFold(n_splits=3)\n",
        "\n",
        "\n",
        "for i, (train_index, test_index) in enumerate(kf.split(X)):\n",
        "    print('Train index')\n",
        "    print(train_index)\n",
        "    #print(X[train_index])\n",
        "    #print(y[train_index])\n",
        "\n",
        "    print('Test index')\n",
        "    print(test_index)\n",
        "    #print(X[test_index])\n",
        "    #print(y[test_index])\n"
      ]
    },
    {
      "cell_type": "code",
      "execution_count": null,
      "id": "0ac18d48",
      "metadata": {
        "id": "0ac18d48"
      },
      "outputs": [],
      "source": [
        "from sklearn.linear_model import LogisticRegression"
      ]
    },
    {
      "cell_type": "code",
      "execution_count": null,
      "id": "7a127ced",
      "metadata": {
        "id": "7a127ced"
      },
      "outputs": [],
      "source": [
        "lg = LogisticRegression()"
      ]
    },
    {
      "cell_type": "code",
      "execution_count": null,
      "id": "0bb3f613",
      "metadata": {
        "id": "0bb3f613",
        "outputId": "92c39e36-a8f9-40ec-a864-09d24c91d035"
      },
      "outputs": [
        {
          "name": "stderr",
          "output_type": "stream",
          "text": [
            "c:\\Users\\smart\\AppData\\Local\\Programs\\Python\\Python312\\Lib\\site-packages\\sklearn\\linear_model\\_logistic.py:469: ConvergenceWarning: lbfgs failed to converge (status=1):\n",
            "STOP: TOTAL NO. of ITERATIONS REACHED LIMIT.\n",
            "\n",
            "Increase the number of iterations (max_iter) or scale the data as shown in:\n",
            "    https://scikit-learn.org/stable/modules/preprocessing.html\n",
            "Please also refer to the documentation for alternative solver options:\n",
            "    https://scikit-learn.org/stable/modules/linear_model.html#logistic-regression\n",
            "  n_iter_i = _check_optimize_result(\n"
          ]
        },
        {
          "data": {
            "text/html": [
              "<style>#sk-container-id-1 {\n",
              "  /* Definition of color scheme common for light and dark mode */\n",
              "  --sklearn-color-text: black;\n",
              "  --sklearn-color-line: gray;\n",
              "  /* Definition of color scheme for unfitted estimators */\n",
              "  --sklearn-color-unfitted-level-0: #fff5e6;\n",
              "  --sklearn-color-unfitted-level-1: #f6e4d2;\n",
              "  --sklearn-color-unfitted-level-2: #ffe0b3;\n",
              "  --sklearn-color-unfitted-level-3: chocolate;\n",
              "  /* Definition of color scheme for fitted estimators */\n",
              "  --sklearn-color-fitted-level-0: #f0f8ff;\n",
              "  --sklearn-color-fitted-level-1: #d4ebff;\n",
              "  --sklearn-color-fitted-level-2: #b3dbfd;\n",
              "  --sklearn-color-fitted-level-3: cornflowerblue;\n",
              "\n",
              "  /* Specific color for light theme */\n",
              "  --sklearn-color-text-on-default-background: var(--sg-text-color, var(--theme-code-foreground, var(--jp-content-font-color1, black)));\n",
              "  --sklearn-color-background: var(--sg-background-color, var(--theme-background, var(--jp-layout-color0, white)));\n",
              "  --sklearn-color-border-box: var(--sg-text-color, var(--theme-code-foreground, var(--jp-content-font-color1, black)));\n",
              "  --sklearn-color-icon: #696969;\n",
              "\n",
              "  @media (prefers-color-scheme: dark) {\n",
              "    /* Redefinition of color scheme for dark theme */\n",
              "    --sklearn-color-text-on-default-background: var(--sg-text-color, var(--theme-code-foreground, var(--jp-content-font-color1, white)));\n",
              "    --sklearn-color-background: var(--sg-background-color, var(--theme-background, var(--jp-layout-color0, #111)));\n",
              "    --sklearn-color-border-box: var(--sg-text-color, var(--theme-code-foreground, var(--jp-content-font-color1, white)));\n",
              "    --sklearn-color-icon: #878787;\n",
              "  }\n",
              "}\n",
              "\n",
              "#sk-container-id-1 {\n",
              "  color: var(--sklearn-color-text);\n",
              "}\n",
              "\n",
              "#sk-container-id-1 pre {\n",
              "  padding: 0;\n",
              "}\n",
              "\n",
              "#sk-container-id-1 input.sk-hidden--visually {\n",
              "  border: 0;\n",
              "  clip: rect(1px 1px 1px 1px);\n",
              "  clip: rect(1px, 1px, 1px, 1px);\n",
              "  height: 1px;\n",
              "  margin: -1px;\n",
              "  overflow: hidden;\n",
              "  padding: 0;\n",
              "  position: absolute;\n",
              "  width: 1px;\n",
              "}\n",
              "\n",
              "#sk-container-id-1 div.sk-dashed-wrapped {\n",
              "  border: 1px dashed var(--sklearn-color-line);\n",
              "  margin: 0 0.4em 0.5em 0.4em;\n",
              "  box-sizing: border-box;\n",
              "  padding-bottom: 0.4em;\n",
              "  background-color: var(--sklearn-color-background);\n",
              "}\n",
              "\n",
              "#sk-container-id-1 div.sk-container {\n",
              "  /* jupyter's `normalize.less` sets `[hidden] { display: none; }`\n",
              "     but bootstrap.min.css set `[hidden] { display: none !important; }`\n",
              "     so we also need the `!important` here to be able to override the\n",
              "     default hidden behavior on the sphinx rendered scikit-learn.org.\n",
              "     See: https://github.com/scikit-learn/scikit-learn/issues/21755 */\n",
              "  display: inline-block !important;\n",
              "  position: relative;\n",
              "}\n",
              "\n",
              "#sk-container-id-1 div.sk-text-repr-fallback {\n",
              "  display: none;\n",
              "}\n",
              "\n",
              "div.sk-parallel-item,\n",
              "div.sk-serial,\n",
              "div.sk-item {\n",
              "  /* draw centered vertical line to link estimators */\n",
              "  background-image: linear-gradient(var(--sklearn-color-text-on-default-background), var(--sklearn-color-text-on-default-background));\n",
              "  background-size: 2px 100%;\n",
              "  background-repeat: no-repeat;\n",
              "  background-position: center center;\n",
              "}\n",
              "\n",
              "/* Parallel-specific style estimator block */\n",
              "\n",
              "#sk-container-id-1 div.sk-parallel-item::after {\n",
              "  content: \"\";\n",
              "  width: 100%;\n",
              "  border-bottom: 2px solid var(--sklearn-color-text-on-default-background);\n",
              "  flex-grow: 1;\n",
              "}\n",
              "\n",
              "#sk-container-id-1 div.sk-parallel {\n",
              "  display: flex;\n",
              "  align-items: stretch;\n",
              "  justify-content: center;\n",
              "  background-color: var(--sklearn-color-background);\n",
              "  position: relative;\n",
              "}\n",
              "\n",
              "#sk-container-id-1 div.sk-parallel-item {\n",
              "  display: flex;\n",
              "  flex-direction: column;\n",
              "}\n",
              "\n",
              "#sk-container-id-1 div.sk-parallel-item:first-child::after {\n",
              "  align-self: flex-end;\n",
              "  width: 50%;\n",
              "}\n",
              "\n",
              "#sk-container-id-1 div.sk-parallel-item:last-child::after {\n",
              "  align-self: flex-start;\n",
              "  width: 50%;\n",
              "}\n",
              "\n",
              "#sk-container-id-1 div.sk-parallel-item:only-child::after {\n",
              "  width: 0;\n",
              "}\n",
              "\n",
              "/* Serial-specific style estimator block */\n",
              "\n",
              "#sk-container-id-1 div.sk-serial {\n",
              "  display: flex;\n",
              "  flex-direction: column;\n",
              "  align-items: center;\n",
              "  background-color: var(--sklearn-color-background);\n",
              "  padding-right: 1em;\n",
              "  padding-left: 1em;\n",
              "}\n",
              "\n",
              "\n",
              "/* Toggleable style: style used for estimator/Pipeline/ColumnTransformer box that is\n",
              "clickable and can be expanded/collapsed.\n",
              "- Pipeline and ColumnTransformer use this feature and define the default style\n",
              "- Estimators will overwrite some part of the style using the `sk-estimator` class\n",
              "*/\n",
              "\n",
              "/* Pipeline and ColumnTransformer style (default) */\n",
              "\n",
              "#sk-container-id-1 div.sk-toggleable {\n",
              "  /* Default theme specific background. It is overwritten whether we have a\n",
              "  specific estimator or a Pipeline/ColumnTransformer */\n",
              "  background-color: var(--sklearn-color-background);\n",
              "}\n",
              "\n",
              "/* Toggleable label */\n",
              "#sk-container-id-1 label.sk-toggleable__label {\n",
              "  cursor: pointer;\n",
              "  display: block;\n",
              "  width: 100%;\n",
              "  margin-bottom: 0;\n",
              "  padding: 0.5em;\n",
              "  box-sizing: border-box;\n",
              "  text-align: center;\n",
              "}\n",
              "\n",
              "#sk-container-id-1 label.sk-toggleable__label-arrow:before {\n",
              "  /* Arrow on the left of the label */\n",
              "  content: \"▸\";\n",
              "  float: left;\n",
              "  margin-right: 0.25em;\n",
              "  color: var(--sklearn-color-icon);\n",
              "}\n",
              "\n",
              "#sk-container-id-1 label.sk-toggleable__label-arrow:hover:before {\n",
              "  color: var(--sklearn-color-text);\n",
              "}\n",
              "\n",
              "/* Toggleable content - dropdown */\n",
              "\n",
              "#sk-container-id-1 div.sk-toggleable__content {\n",
              "  max-height: 0;\n",
              "  max-width: 0;\n",
              "  overflow: hidden;\n",
              "  text-align: left;\n",
              "  /* unfitted */\n",
              "  background-color: var(--sklearn-color-unfitted-level-0);\n",
              "}\n",
              "\n",
              "#sk-container-id-1 div.sk-toggleable__content.fitted {\n",
              "  /* fitted */\n",
              "  background-color: var(--sklearn-color-fitted-level-0);\n",
              "}\n",
              "\n",
              "#sk-container-id-1 div.sk-toggleable__content pre {\n",
              "  margin: 0.2em;\n",
              "  border-radius: 0.25em;\n",
              "  color: var(--sklearn-color-text);\n",
              "  /* unfitted */\n",
              "  background-color: var(--sklearn-color-unfitted-level-0);\n",
              "}\n",
              "\n",
              "#sk-container-id-1 div.sk-toggleable__content.fitted pre {\n",
              "  /* unfitted */\n",
              "  background-color: var(--sklearn-color-fitted-level-0);\n",
              "}\n",
              "\n",
              "#sk-container-id-1 input.sk-toggleable__control:checked~div.sk-toggleable__content {\n",
              "  /* Expand drop-down */\n",
              "  max-height: 200px;\n",
              "  max-width: 100%;\n",
              "  overflow: auto;\n",
              "}\n",
              "\n",
              "#sk-container-id-1 input.sk-toggleable__control:checked~label.sk-toggleable__label-arrow:before {\n",
              "  content: \"▾\";\n",
              "}\n",
              "\n",
              "/* Pipeline/ColumnTransformer-specific style */\n",
              "\n",
              "#sk-container-id-1 div.sk-label input.sk-toggleable__control:checked~label.sk-toggleable__label {\n",
              "  color: var(--sklearn-color-text);\n",
              "  background-color: var(--sklearn-color-unfitted-level-2);\n",
              "}\n",
              "\n",
              "#sk-container-id-1 div.sk-label.fitted input.sk-toggleable__control:checked~label.sk-toggleable__label {\n",
              "  background-color: var(--sklearn-color-fitted-level-2);\n",
              "}\n",
              "\n",
              "/* Estimator-specific style */\n",
              "\n",
              "/* Colorize estimator box */\n",
              "#sk-container-id-1 div.sk-estimator input.sk-toggleable__control:checked~label.sk-toggleable__label {\n",
              "  /* unfitted */\n",
              "  background-color: var(--sklearn-color-unfitted-level-2);\n",
              "}\n",
              "\n",
              "#sk-container-id-1 div.sk-estimator.fitted input.sk-toggleable__control:checked~label.sk-toggleable__label {\n",
              "  /* fitted */\n",
              "  background-color: var(--sklearn-color-fitted-level-2);\n",
              "}\n",
              "\n",
              "#sk-container-id-1 div.sk-label label.sk-toggleable__label,\n",
              "#sk-container-id-1 div.sk-label label {\n",
              "  /* The background is the default theme color */\n",
              "  color: var(--sklearn-color-text-on-default-background);\n",
              "}\n",
              "\n",
              "/* On hover, darken the color of the background */\n",
              "#sk-container-id-1 div.sk-label:hover label.sk-toggleable__label {\n",
              "  color: var(--sklearn-color-text);\n",
              "  background-color: var(--sklearn-color-unfitted-level-2);\n",
              "}\n",
              "\n",
              "/* Label box, darken color on hover, fitted */\n",
              "#sk-container-id-1 div.sk-label.fitted:hover label.sk-toggleable__label.fitted {\n",
              "  color: var(--sklearn-color-text);\n",
              "  background-color: var(--sklearn-color-fitted-level-2);\n",
              "}\n",
              "\n",
              "/* Estimator label */\n",
              "\n",
              "#sk-container-id-1 div.sk-label label {\n",
              "  font-family: monospace;\n",
              "  font-weight: bold;\n",
              "  display: inline-block;\n",
              "  line-height: 1.2em;\n",
              "}\n",
              "\n",
              "#sk-container-id-1 div.sk-label-container {\n",
              "  text-align: center;\n",
              "}\n",
              "\n",
              "/* Estimator-specific */\n",
              "#sk-container-id-1 div.sk-estimator {\n",
              "  font-family: monospace;\n",
              "  border: 1px dotted var(--sklearn-color-border-box);\n",
              "  border-radius: 0.25em;\n",
              "  box-sizing: border-box;\n",
              "  margin-bottom: 0.5em;\n",
              "  /* unfitted */\n",
              "  background-color: var(--sklearn-color-unfitted-level-0);\n",
              "}\n",
              "\n",
              "#sk-container-id-1 div.sk-estimator.fitted {\n",
              "  /* fitted */\n",
              "  background-color: var(--sklearn-color-fitted-level-0);\n",
              "}\n",
              "\n",
              "/* on hover */\n",
              "#sk-container-id-1 div.sk-estimator:hover {\n",
              "  /* unfitted */\n",
              "  background-color: var(--sklearn-color-unfitted-level-2);\n",
              "}\n",
              "\n",
              "#sk-container-id-1 div.sk-estimator.fitted:hover {\n",
              "  /* fitted */\n",
              "  background-color: var(--sklearn-color-fitted-level-2);\n",
              "}\n",
              "\n",
              "/* Specification for estimator info (e.g. \"i\" and \"?\") */\n",
              "\n",
              "/* Common style for \"i\" and \"?\" */\n",
              "\n",
              ".sk-estimator-doc-link,\n",
              "a:link.sk-estimator-doc-link,\n",
              "a:visited.sk-estimator-doc-link {\n",
              "  float: right;\n",
              "  font-size: smaller;\n",
              "  line-height: 1em;\n",
              "  font-family: monospace;\n",
              "  background-color: var(--sklearn-color-background);\n",
              "  border-radius: 1em;\n",
              "  height: 1em;\n",
              "  width: 1em;\n",
              "  text-decoration: none !important;\n",
              "  margin-left: 1ex;\n",
              "  /* unfitted */\n",
              "  border: var(--sklearn-color-unfitted-level-1) 1pt solid;\n",
              "  color: var(--sklearn-color-unfitted-level-1);\n",
              "}\n",
              "\n",
              ".sk-estimator-doc-link.fitted,\n",
              "a:link.sk-estimator-doc-link.fitted,\n",
              "a:visited.sk-estimator-doc-link.fitted {\n",
              "  /* fitted */\n",
              "  border: var(--sklearn-color-fitted-level-1) 1pt solid;\n",
              "  color: var(--sklearn-color-fitted-level-1);\n",
              "}\n",
              "\n",
              "/* On hover */\n",
              "div.sk-estimator:hover .sk-estimator-doc-link:hover,\n",
              ".sk-estimator-doc-link:hover,\n",
              "div.sk-label-container:hover .sk-estimator-doc-link:hover,\n",
              ".sk-estimator-doc-link:hover {\n",
              "  /* unfitted */\n",
              "  background-color: var(--sklearn-color-unfitted-level-3);\n",
              "  color: var(--sklearn-color-background);\n",
              "  text-decoration: none;\n",
              "}\n",
              "\n",
              "div.sk-estimator.fitted:hover .sk-estimator-doc-link.fitted:hover,\n",
              ".sk-estimator-doc-link.fitted:hover,\n",
              "div.sk-label-container:hover .sk-estimator-doc-link.fitted:hover,\n",
              ".sk-estimator-doc-link.fitted:hover {\n",
              "  /* fitted */\n",
              "  background-color: var(--sklearn-color-fitted-level-3);\n",
              "  color: var(--sklearn-color-background);\n",
              "  text-decoration: none;\n",
              "}\n",
              "\n",
              "/* Span, style for the box shown on hovering the info icon */\n",
              ".sk-estimator-doc-link span {\n",
              "  display: none;\n",
              "  z-index: 9999;\n",
              "  position: relative;\n",
              "  font-weight: normal;\n",
              "  right: .2ex;\n",
              "  padding: .5ex;\n",
              "  margin: .5ex;\n",
              "  width: min-content;\n",
              "  min-width: 20ex;\n",
              "  max-width: 50ex;\n",
              "  color: var(--sklearn-color-text);\n",
              "  box-shadow: 2pt 2pt 4pt #999;\n",
              "  /* unfitted */\n",
              "  background: var(--sklearn-color-unfitted-level-0);\n",
              "  border: .5pt solid var(--sklearn-color-unfitted-level-3);\n",
              "}\n",
              "\n",
              ".sk-estimator-doc-link.fitted span {\n",
              "  /* fitted */\n",
              "  background: var(--sklearn-color-fitted-level-0);\n",
              "  border: var(--sklearn-color-fitted-level-3);\n",
              "}\n",
              "\n",
              ".sk-estimator-doc-link:hover span {\n",
              "  display: block;\n",
              "}\n",
              "\n",
              "/* \"?\"-specific style due to the `<a>` HTML tag */\n",
              "\n",
              "#sk-container-id-1 a.estimator_doc_link {\n",
              "  float: right;\n",
              "  font-size: 1rem;\n",
              "  line-height: 1em;\n",
              "  font-family: monospace;\n",
              "  background-color: var(--sklearn-color-background);\n",
              "  border-radius: 1rem;\n",
              "  height: 1rem;\n",
              "  width: 1rem;\n",
              "  text-decoration: none;\n",
              "  /* unfitted */\n",
              "  color: var(--sklearn-color-unfitted-level-1);\n",
              "  border: var(--sklearn-color-unfitted-level-1) 1pt solid;\n",
              "}\n",
              "\n",
              "#sk-container-id-1 a.estimator_doc_link.fitted {\n",
              "  /* fitted */\n",
              "  border: var(--sklearn-color-fitted-level-1) 1pt solid;\n",
              "  color: var(--sklearn-color-fitted-level-1);\n",
              "}\n",
              "\n",
              "/* On hover */\n",
              "#sk-container-id-1 a.estimator_doc_link:hover {\n",
              "  /* unfitted */\n",
              "  background-color: var(--sklearn-color-unfitted-level-3);\n",
              "  color: var(--sklearn-color-background);\n",
              "  text-decoration: none;\n",
              "}\n",
              "\n",
              "#sk-container-id-1 a.estimator_doc_link.fitted:hover {\n",
              "  /* fitted */\n",
              "  background-color: var(--sklearn-color-fitted-level-3);\n",
              "}\n",
              "</style><div id=\"sk-container-id-1\" class=\"sk-top-container\"><div class=\"sk-text-repr-fallback\"><pre>LogisticRegression()</pre><b>In a Jupyter environment, please rerun this cell to show the HTML representation or trust the notebook. <br />On GitHub, the HTML representation is unable to render, please try loading this page with nbviewer.org.</b></div><div class=\"sk-container\" hidden><div class=\"sk-item\"><div class=\"sk-estimator fitted sk-toggleable\"><input class=\"sk-toggleable__control sk-hidden--visually\" id=\"sk-estimator-id-1\" type=\"checkbox\" checked><label for=\"sk-estimator-id-1\" class=\"sk-toggleable__label fitted sk-toggleable__label-arrow fitted\">&nbsp;&nbsp;LogisticRegression<a class=\"sk-estimator-doc-link fitted\" rel=\"noreferrer\" target=\"_blank\" href=\"https://scikit-learn.org/1.4/modules/generated/sklearn.linear_model.LogisticRegression.html\">?<span>Documentation for LogisticRegression</span></a><span class=\"sk-estimator-doc-link fitted\">i<span>Fitted</span></span></label><div class=\"sk-toggleable__content fitted\"><pre>LogisticRegression()</pre></div> </div></div></div></div>"
            ],
            "text/plain": [
              "LogisticRegression()"
            ]
          },
          "execution_count": 54,
          "metadata": {},
          "output_type": "execute_result"
        }
      ],
      "source": [
        "lg.fit(X_train,y_train)"
      ]
    },
    {
      "cell_type": "code",
      "execution_count": null,
      "id": "67af1f28",
      "metadata": {
        "id": "67af1f28",
        "outputId": "cd52409f-fcf1-48f4-fd94-2f456df2cdbb"
      },
      "outputs": [
        {
          "data": {
            "text/plain": [
              "0.8185470909675345"
            ]
          },
          "execution_count": 55,
          "metadata": {},
          "output_type": "execute_result"
        }
      ],
      "source": [
        "lg.score(X_test,y_test)"
      ]
    },
    {
      "cell_type": "code",
      "execution_count": null,
      "id": "b8f7d068",
      "metadata": {
        "id": "b8f7d068",
        "outputId": "8b39ad3e-90cd-4d7e-c36f-942fee3b953d"
      },
      "outputs": [
        {
          "data": {
            "text/plain": [
              "0.822021297970665"
            ]
          },
          "execution_count": 56,
          "metadata": {},
          "output_type": "execute_result"
        }
      ],
      "source": [
        "lg.score(X_train,y_train)"
      ]
    },
    {
      "cell_type": "code",
      "execution_count": null,
      "id": "c29a1355",
      "metadata": {
        "id": "c29a1355"
      },
      "outputs": [],
      "source": [
        "from sklearn.metrics import precision_score,recall_score,accuracy_score,f1_score,classification_report,confusion_matrix"
      ]
    },
    {
      "cell_type": "code",
      "execution_count": null,
      "id": "eaa85fe8",
      "metadata": {
        "id": "eaa85fe8"
      },
      "outputs": [],
      "source": [
        "y_pred = lg.predict(X_test)"
      ]
    },
    {
      "cell_type": "code",
      "execution_count": null,
      "id": "928ca819",
      "metadata": {
        "id": "928ca819",
        "outputId": "e7bbde96-a076-43fc-d58f-25078b58a030"
      },
      "outputs": [
        {
          "data": {
            "text/plain": [
              "0.8185470909675345"
            ]
          },
          "execution_count": 59,
          "metadata": {},
          "output_type": "execute_result"
        }
      ],
      "source": [
        "accuracy_score(y_pred,y_test)"
      ]
    },
    {
      "cell_type": "code",
      "execution_count": null,
      "id": "bc9d377d",
      "metadata": {
        "id": "bc9d377d",
        "outputId": "97c08d5f-abbf-4bd6-9950-125a9ad98bed"
      },
      "outputs": [
        {
          "name": "stdout",
          "output_type": "stream",
          "text": [
            "              precision    recall  f1-score   support\n",
            "\n",
            "           0       0.52      0.89      0.65       568\n",
            "           1       0.40      0.91      0.55       427\n",
            "           2       1.00      0.95      0.97       909\n",
            "           3       0.98      0.77      0.86      4318\n",
            "\n",
            "    accuracy                           0.82      6222\n",
            "   macro avg       0.72      0.88      0.76      6222\n",
            "weighted avg       0.90      0.82      0.84      6222\n",
            "\n"
          ]
        }
      ],
      "source": [
        "print(classification_report(y_pred,y_test))"
      ]
    },
    {
      "cell_type": "code",
      "execution_count": null,
      "id": "4999c624",
      "metadata": {
        "id": "4999c624"
      },
      "outputs": [],
      "source": [
        "cm=confusion_matrix(y_pred,y_test)"
      ]
    },
    {
      "cell_type": "code",
      "execution_count": null,
      "id": "276da9c2",
      "metadata": {
        "id": "276da9c2",
        "outputId": "00e0a6dd-8672-49e7-bb7b-b88d3b81fa51"
      },
      "outputs": [
        {
          "data": {
            "text/plain": [
              "<Axes: >"
            ]
          },
          "execution_count": 62,
          "metadata": {},
          "output_type": "execute_result"
        },
        {
          "data": {
            "image/png": "[encoded data removed]",
            "text/plain": [
              "<Figure size 640x480 with 2 Axes>"
            ]
          },
          "metadata": {},
          "output_type": "display_data"
        }
      ],
      "source": [
        "import seaborn as sns\n",
        "sns.heatmap(cm, annot=True)"
      ]
    },
    {
      "cell_type": "code",
      "execution_count": null,
      "id": "9ac5d471",
      "metadata": {
        "id": "9ac5d471"
      },
      "outputs": [],
      "source": []
    }
  ],
  "metadata": {
    "kernelspec": {
      "display_name": "Python 3 (ipykernel)",
      "language": "python",
      "name": "python3"
    },
    "language_info": {
      "codemirror_mode": {
        "name": "ipython",
        "version": 3
      },
      "file_extension": ".py",
      "mimetype": "text/x-python",
      "name": "python",
      "nbconvert_exporter": "python",
      "pygments_lexer": "ipython3",
      "version": "3.12.4"
    },
    "colab": {
      "provenance": []
    }
  },
  "nbformat": 4,
  "nbformat_minor": 5
}